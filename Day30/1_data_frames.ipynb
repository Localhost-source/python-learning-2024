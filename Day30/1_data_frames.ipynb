{
 "cells": [
  {
   "cell_type": "code",
   "execution_count": 1,
   "metadata": {},
   "outputs": [
    {
     "ename": "ModuleNotFoundError",
     "evalue": "No module named 'pandas'",
     "output_type": "error",
     "traceback": [
      "\u001b[1;31m---------------------------------------------------------------------------\u001b[0m",
      "\u001b[1;31mModuleNotFoundError\u001b[0m                       Traceback (most recent call last)",
      "Cell \u001b[1;32mIn[1], line 13\u001b[0m\n\u001b[0;32m      1\u001b[0m \u001b[38;5;66;03m# We use 'pandas' for overall data manipulation in this session\u001b[39;00m\n\u001b[0;32m      2\u001b[0m \u001b[38;5;66;03m# Pandas is a very famous python library for data analysis. We can efficiently manipulate, filter and create\u001b[39;00m\n\u001b[0;32m      3\u001b[0m \u001b[38;5;66;03m# data using Pandas.\u001b[39;00m\n\u001b[1;32m   (...)\u001b[0m\n\u001b[0;32m      6\u001b[0m \n\u001b[0;32m      7\u001b[0m \u001b[38;5;66;03m# Let's represent a two-dimensional data structure using Python dictionary\u001b[39;00m\n\u001b[0;32m      8\u001b[0m people \u001b[38;5;241m=\u001b[39m {\n\u001b[0;32m      9\u001b[0m     \u001b[38;5;124m\"\u001b[39m\u001b[38;5;124mname\u001b[39m\u001b[38;5;124m\"\u001b[39m: [\u001b[38;5;124m\"\u001b[39m\u001b[38;5;124mJon\u001b[39m\u001b[38;5;124m\"\u001b[39m, \u001b[38;5;124m\"\u001b[39m\u001b[38;5;124mJane\u001b[39m\u001b[38;5;124m\"\u001b[39m, \u001b[38;5;124m\"\u001b[39m\u001b[38;5;124mKen\u001b[39m\u001b[38;5;124m\"\u001b[39m, \u001b[38;5;124m\"\u001b[39m\u001b[38;5;124mKevin\u001b[39m\u001b[38;5;124m\"\u001b[39m],\n\u001b[0;32m     10\u001b[0m     \u001b[38;5;124m\"\u001b[39m\u001b[38;5;124memail\u001b[39m\u001b[38;5;124m\"\u001b[39m: [\u001b[38;5;124m\"\u001b[39m\u001b[38;5;124mjon@email.com\u001b[39m\u001b[38;5;124m\"\u001b[39m, \u001b[38;5;124m\"\u001b[39m\u001b[38;5;124mjane@email.com\u001b[39m\u001b[38;5;124m\"\u001b[39m, \u001b[38;5;124m\"\u001b[39m\u001b[38;5;124mken@email.com\u001b[39m\u001b[38;5;124m\"\u001b[39m, \u001b[38;5;124m\"\u001b[39m\u001b[38;5;124mkevin@email.com\u001b[39m\u001b[38;5;124m\"\u001b[39m],\n\u001b[0;32m     11\u001b[0m     \u001b[38;5;124m\"\u001b[39m\u001b[38;5;124maddress\u001b[39m\u001b[38;5;124m\"\u001b[39m: [\u001b[38;5;124m\"\u001b[39m\u001b[38;5;124mKTM\u001b[39m\u001b[38;5;124m\"\u001b[39m, \u001b[38;5;124m\"\u001b[39m\u001b[38;5;124mBKT\u001b[39m\u001b[38;5;124m\"\u001b[39m, \u001b[38;5;124m\"\u001b[39m\u001b[38;5;124mPKR\u001b[39m\u001b[38;5;124m\"\u001b[39m, \u001b[38;5;124m\"\u001b[39m\u001b[38;5;124mLTP\u001b[39m\u001b[38;5;124m\"\u001b[39m]\n\u001b[0;32m     12\u001b[0m }\n\u001b[1;32m---> 13\u001b[0m \u001b[38;5;28;01mimport\u001b[39;00m \u001b[38;5;21;01mpandas\u001b[39;00m \u001b[38;5;28;01mas\u001b[39;00m \u001b[38;5;21;01mpd\u001b[39;00m\n\u001b[0;32m     14\u001b[0m df \u001b[38;5;241m=\u001b[39m pd\u001b[38;5;241m.\u001b[39mDataFrame(people)\n\u001b[0;32m     15\u001b[0m df\n",
      "\u001b[1;31mModuleNotFoundError\u001b[0m: No module named 'pandas'"
     ]
    }
   ],
   "source": [
    "# We use 'pandas' for overall data manipulation in this session\n",
    "# Pandas is a very famous python library for data analysis. We can efficiently manipulate, filter and create\n",
    "# data using Pandas.\n",
    "# DataFrames are the backbone of Pandas\n",
    "# Dataframes are the two dimensional data structures in pandas\n",
    "\n",
    "# Let's represent a two-dimensional data structure using Python dictionary\n",
    "people = {\n",
    "    \"name\": [\"Jon\", \"Jane\", \"Ken\", \"Kevin\"],\n",
    "    \"email\": [\"jon@email.com\", \"jane@email.com\", \"ken@email.com\", \"kevin@email.com\"],\n",
    "    \"address\": [\"KTM\", \"BKT\", \"PKR\", \"LTP\"]\n",
    "}\n",
    "import pandas as pd\n",
    "df = pd.DataFrame(people)\n",
    "df\n",
    "df.shape  # (rows, column)\n",
    "df.info()\n",
    "df.head(2)\n",
    "df.tail(2)\n",
    "df['email']\n",
    "type(df['email']) # Series\n",
    "# Series is a single column of a dataframe\n",
    "# Dataframe is a collection of such series\n",
    "# We can also access the column / series using a dot (.) operator\n",
    "df.email\n",
    "# But using '.' is not recommended because it may conflict with the dataframe attributes\n",
    "r = df[[\"name\", \"email\"]]\n",
    "type(r)   # dataframe\n",
    "r\n",
    "df.columns\n",
    "df.iloc[0]  # It gives the first row of the dataframe\n",
    "# iloc stands for integer-location.\n",
    "# We can give rows and coumns in the iloc\n",
    "# If we want to provide multiple rows and multiple columns then they should be enclosed in [].\n",
    "df.iloc[[0, 1]]\n",
    "df.iloc[0, 1]  # here 0 index is for row and 1 index is for column\n",
    "df.iloc[[0,1], 1]  # here [0, 1] are rows and 1 is for column\n",
    "df.iloc[[0, 1], [0, 1]]  # here [0, 1] are rows and [0, 1] are columns\n",
    "df.iloc[0:2, 0:2]\n",
    "# we also have a 'loc' method for a dataframe\n",
    "df.loc[[0, 1], [\"name\", \"email\"]]\n",
    "df.loc[0:3, \"name\":\"email\"]\n",
    "# We can also set the index of our rows\n",
    "df.set_index(\"email\")\n",
    "df\n",
    "new_df = df.set_index('email')\n",
    "df.set_index(\"email\", inplace=True)\n",
    "df\n",
    "df\n",
    "df.loc[[\"jon@email.com\", \"kevin@email.com\"], [\"name\", \"address\"]]\n",
    "df.iloc[[0, 1], [0, 1]]\n",
    "df.reset_index(inplace=True)   # This removes the custom indexing and reset to default\n",
    "df\n",
    "df.sort_index()\n",
    "df.sort_index(ascending=False)\n",
    "# Filtering\n",
    "df[\"address\"] == \"PKR\"  # it is just a masking\n",
    "filt = (df[\"address\"] == \"PKR\")\n",
    "df[filt]\n",
    "df.loc[filt]\n",
    "df.loc[filt, \"address\"]\n",
    "df.loc[filt, [\"address\", \"name\"]]\n",
    "df\n",
    "filt = ((df[\"address\"] == \"BKT\") | (df[\"name\"] == \"Kevin\"))\n",
    "df.loc[filt]\n",
    "df.loc[~filt]   # ~ refers to negate/ exclude\n"
   ]
  },
  {
   "cell_type": "code",
   "execution_count": null,
   "metadata": {},
   "outputs": [],
   "source": []
  },
  {
   "cell_type": "code",
   "execution_count": null,
   "metadata": {},
   "outputs": [],
   "source": []
  },
  {
   "cell_type": "code",
   "execution_count": null,
   "metadata": {},
   "outputs": [],
   "source": []
  }
 ],
 "metadata": {
  "kernelspec": {
   "display_name": "Python 3 (ipykernel)",
   "language": "python",
   "name": "python3"
  },
  "language_info": {
   "codemirror_mode": {
    "name": "ipython",
    "version": 3
   },
   "file_extension": ".py",
   "mimetype": "text/x-python",
   "name": "python",
   "nbconvert_exporter": "python",
   "pygments_lexer": "ipython3",
   "version": "3.12.3"
  }
 },
 "nbformat": 4,
 "nbformat_minor": 4
}
